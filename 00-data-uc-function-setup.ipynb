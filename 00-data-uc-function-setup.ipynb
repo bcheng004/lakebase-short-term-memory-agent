{
 "cells": [
  {
   "cell_type": "code",
   "execution_count": 0,
   "metadata": {
    "application/vnd.databricks.v1+cell": {
     "cellMetadata": {
      "byteLimit": 2048000,
      "rowLimit": 10000
     },
     "inputWidgets": {},
     "nuid": "d81b24d3-4ef3-4990-bb1b-6de5b0858dcb",
     "showTitle": true,
     "tableResultSettingsMap": {},
     "title": "Library Update and Restart Operation"
    }
   },
   "outputs": [],
   "source": [
    "%pip install -qqqq -U databricks-sdk\n",
    "dbutils.library.restartPython()"
   ]
  },
  {
   "cell_type": "code",
   "execution_count": 0,
   "metadata": {
    "application/vnd.databricks.v1+cell": {
     "cellMetadata": {
      "byteLimit": 2048000,
      "rowLimit": 10000
     },
     "inputWidgets": {},
     "nuid": "d5104102-9ea2-43bf-8ca7-40c6fe2abad6",
     "showTitle": true,
     "tableResultSettingsMap": {},
     "title": "Widgets Declaration"
    }
   },
   "outputs": [],
   "source": [
    "dbutils.widgets.text(\"cyber_full_path\", \"\", \"cyber_full_path\")\n",
    "dbutils.widgets.text(\"user_full_path\", \"\", \"user_full_path\")\n",
    "dbutils.widgets.text(\"catalog\", \"\", \"catalog\")\n",
    "dbutils.widgets.text(\"schema\", \"\", \"schema\")"
   ]
  },
  {
   "cell_type": "code",
   "execution_count": 0,
   "metadata": {
    "application/vnd.databricks.v1+cell": {
     "cellMetadata": {
      "byteLimit": 2048000,
      "rowLimit": 10000
     },
     "inputWidgets": {},
     "nuid": "841fb816-83f7-4caf-b187-6ecf4b46877b",
     "showTitle": true,
     "tableResultSettingsMap": {},
     "title": "Widget Paths Adjustment"
    }
   },
   "outputs": [],
   "source": [
    "def get_full_path(full_path):\n",
    "    if full_path.startswith(\"/Workspace\"):\n",
    "        full_path = f\"file:{full_path}\"\n",
    "    return full_path\n",
    "\n",
    "\n",
    "cyber_full_path = get_full_path(dbutils.widgets.get(\"cyber_full_path\"))\n",
    "user_full_path = get_full_path(dbutils.widgets.get(\"user_full_path\"))"
   ]
  },
  {
   "cell_type": "code",
   "execution_count": 0,
   "metadata": {
    "application/vnd.databricks.v1+cell": {
     "cellMetadata": {
      "byteLimit": 2048000,
      "rowLimit": 10000
     },
     "inputWidgets": {},
     "nuid": "8f328d85-d29a-4a45-b91b-45bc6da2fd06",
     "showTitle": true,
     "tableResultSettingsMap": {},
     "title": "Load Cyber Threat Detection and User Info Data"
    }
   },
   "outputs": [],
   "source": [
    "cyber_threat_detection_df = spark.read.format(\"parquet\").load(cyber_full_path)\n",
    "user_info_df = spark.read.format(\"parquet\").load(user_full_path)"
   ]
  },
  {
   "cell_type": "code",
   "execution_count": 0,
   "metadata": {
    "application/vnd.databricks.v1+cell": {
     "cellMetadata": {
      "byteLimit": 2048000,
      "rowLimit": 10000
     },
     "inputWidgets": {},
     "nuid": "7b30fb47-5c23-4e64-8ea7-7055425b6251",
     "showTitle": true,
     "tableResultSettingsMap": {},
     "title": "Display Cyber Threat Detection Data"
    }
   },
   "outputs": [],
   "source": [
    "cyber_threat_detection_df.display()"
   ]
  },
  {
   "cell_type": "code",
   "execution_count": 0,
   "metadata": {
    "application/vnd.databricks.v1+cell": {
     "cellMetadata": {
      "byteLimit": 2048000,
      "rowLimit": 10000
     },
     "inputWidgets": {},
     "nuid": "84dfff01-34f0-42be-8c66-2c2dab02c996",
     "showTitle": true,
     "tableResultSettingsMap": {},
     "title": "Display User Info Data"
    }
   },
   "outputs": [],
   "source": [
    "user_info_df.display()"
   ]
  },
  {
   "cell_type": "code",
   "execution_count": 0,
   "metadata": {
    "application/vnd.databricks.v1+cell": {
     "cellMetadata": {
      "byteLimit": 2048000,
      "rowLimit": 10000
     },
     "inputWidgets": {},
     "nuid": "461eb894-f71a-41ef-a303-c3b9972126e9",
     "showTitle": true,
     "tableResultSettingsMap": {},
     "title": "Catalog and Schema"
    }
   },
   "outputs": [],
   "source": [
    "catalog = dbutils.widgets.get(\"catalog\")\n",
    "schema = dbutils.widgets.get(\"schema\")"
   ]
  },
  {
   "cell_type": "code",
   "execution_count": 0,
   "metadata": {
    "application/vnd.databricks.v1+cell": {
     "cellMetadata": {
      "byteLimit": 2048000,
      "rowLimit": 10000
     },
     "inputWidgets": {},
     "nuid": "32691ab7-8be1-484e-9f5f-035a53d1c233",
     "showTitle": true,
     "tableResultSettingsMap": {},
     "title": "Create and Replace Cyber Threat and User Info Tables"
    }
   },
   "outputs": [],
   "source": [
    "cyber_threat_table_name = f\"{catalog}.{schema}.cyber_threat_detection\"\n",
    "user_info_table_name = f\"{catalog}.{schema}.user_info\"\n",
    "cyber_threat_detection_df.writeTo(cyber_threat_table_name).createOrReplace()\n",
    "user_info_df.writeTo(user_info_table_name).createOrReplace()"
   ]
  },
  {
   "cell_type": "code",
   "execution_count": 0,
   "metadata": {
    "application/vnd.databricks.v1+cell": {
     "cellMetadata": {
      "byteLimit": 2048000,
      "implicitDf": true,
      "rowLimit": 10000
     },
     "inputWidgets": {},
     "nuid": "491ab798-36e9-40da-843f-6d7d88b638ab",
     "showTitle": true,
     "tableResultSettingsMap": {},
     "title": "Get Cyber Threat Info Function Definition"
    }
   },
   "outputs": [],
   "source": [
    "%sql\n",
    "CREATE OR REPLACE FUNCTION catalog.schema.agents.get_cyber_threat_info(\n",
    "    threat_type STRING COMMENT 'input cyber threat type'\n",
    "  )\n",
    "  RETURNS STRING\n",
    "  COMMENT 'Returns latest threat_id, event_timestamp, source_ip, protocol, detection_tool given a threat_type'\n",
    "  RETURN\n",
    "    SELECT\n",
    "      CONCAT(\n",
    "        'Threat ID: ',\n",
    "        threat_id,\n",
    "        ', ',\n",
    "        'Timestamp: ',\n",
    "        event_timestamp,\n",
    "        ', ',\n",
    "        'Source IP: ',\n",
    "        source_ip,\n",
    "        ', ',\n",
    "        'Protocol: ',\n",
    "        protocol,\n",
    "        ', ',\n",
    "        'Detection Tool: ',\n",
    "        detection_tool\n",
    "      )\n",
    "    FROM\n",
    "      catalog.schema.agents.cyber_threat_detection\n",
    "    WHERE\n",
    "      threat_type = threat_type\n",
    "    ORDER BY\n",
    "      event_timestamp DESC\n",
    "    LIMIT 1;"
   ]
  },
  {
   "cell_type": "code",
   "execution_count": 0,
   "metadata": {
    "application/vnd.databricks.v1+cell": {
     "cellMetadata": {
      "byteLimit": 2048000,
      "implicitDf": true,
      "rowLimit": 10000
     },
     "inputWidgets": {},
     "nuid": "d75c78b9-7782-41a0-a91a-c305a1815c73",
     "showTitle": true,
     "tableResultSettingsMap": {},
     "title": "Query Cyber Threat Info Function"
    }
   },
   "outputs": [],
   "source": [
    "%sql\n",
    "-- SELECT\n",
    "--   catalog.schema.agents.get_cyber_threat_info(\"Ransomware\")"
   ]
  },
  {
   "cell_type": "code",
   "execution_count": 0,
   "metadata": {
    "application/vnd.databricks.v1+cell": {
     "cellMetadata": {
      "byteLimit": 2048000,
      "implicitDf": true,
      "rowLimit": 10000
     },
     "inputWidgets": {},
     "nuid": "b07dd6a2-266f-49fd-9198-3e7b79f435dc",
     "showTitle": true,
     "tableResultSettingsMap": {},
     "title": "Retrieve User Info by Source IP"
    }
   },
   "outputs": [],
   "source": [
    "%sql\n",
    "CREATE OR REPLACE FUNCTION catalog.schema.agents.get_user_info(\n",
    "    source_ip STRING COMMENT 'input ip address'\n",
    "  )\n",
    "  RETURNS STRING\n",
    "  COMMENT 'Returns latest user_name, department, email, ip_address, location given a source_ip address'\n",
    "  RETURN\n",
    "    SELECT\n",
    "      CONCAT(\n",
    "        'Username: ',\n",
    "        user_name,\n",
    "        ', ',\n",
    "        'Department: ',\n",
    "        department,\n",
    "        ', ',\n",
    "        'Email: ',\n",
    "        email,\n",
    "        ', ',\n",
    "        'IP Address: ',\n",
    "        ip_address,\n",
    "        ', ',\n",
    "        'Location: ',\n",
    "        location\n",
    "      )\n",
    "    FROM\n",
    "      catalog.schema.agents.user_info\n",
    "    WHERE\n",
    "      ip_address = source_ip\n",
    "    LIMIT 1;"
   ]
  },
  {
   "cell_type": "code",
   "execution_count": 0,
   "metadata": {
    "application/vnd.databricks.v1+cell": {
     "cellMetadata": {
      "byteLimit": 2048000,
      "implicitDf": true,
      "rowLimit": 10000
     },
     "inputWidgets": {},
     "nuid": "61a89468-f374-4661-8024-db52744ac7e2",
     "showTitle": true,
     "tableResultSettingsMap": {},
     "title": "SQL Get User Info Function Call"
    }
   },
   "outputs": [],
   "source": [
    "%sql\n",
    "-- SELECT\n",
    "-- catalog.schema.agents.get_user_info(\"192.168.1.21\")"
   ]
  }
 ],
 "metadata": {
  "application/vnd.databricks.v1+notebook": {
   "computePreferences": {
    "hardware": {
     "accelerator": null,
     "gpuPoolId": null,
     "memory": null
    }
   },
   "dashboards": [],
   "environmentMetadata": {
    "base_environment": "",
    "environment_version": "3"
   },
   "inputWidgetPreferences": null,
   "language": "python",
   "notebookMetadata": {
    "mostRecentlyExecutedCommandWithImplicitDF": {
     "commandId": -1,
     "dataframes": [
      "_sqldf"
     ]
    },
    "pythonIndentUnit": 2
   },
   "notebookName": "00-data-uc-function-setup",
   "widgets": {
    "catalog": {
     "currentValue": "bo_cheng_dnb_demos",
     "nuid": "8430696f-22f3-44d7-806d-b395ecb0e787",
     "typedWidgetInfo": {
      "autoCreated": false,
      "defaultValue": "",
      "label": "catalog",
      "name": "catalog",
      "options": {
       "validationRegex": null,
       "widgetDisplayType": "Text"
      },
      "parameterDataType": "String"
     },
     "widgetInfo": {
      "defaultValue": "",
      "label": "catalog",
      "name": "catalog",
      "options": {
       "autoCreated": false,
       "validationRegex": null,
       "widgetType": "text"
      },
      "widgetType": "text"
     }
    },
    "cyber_full_path": {
     "currentValue": "/Volumes/bo_cheng_dnb_demos/agents/memory_agent_volume/cyber_threat_detection/",
     "nuid": "140c8ef4-9ffd-4eb2-b327-eefd48e17412",
     "typedWidgetInfo": {
      "autoCreated": false,
      "defaultValue": "",
      "label": "cyber_full_path",
      "name": "cyber_full_path",
      "options": {
       "validationRegex": null,
       "widgetDisplayType": "Text"
      },
      "parameterDataType": "String"
     },
     "widgetInfo": {
      "defaultValue": "",
      "label": "cyber_full_path",
      "name": "cyber_full_path",
      "options": {
       "autoCreated": null,
       "validationRegex": null,
       "widgetType": "text"
      },
      "widgetType": "text"
     }
    },
    "schema": {
     "currentValue": "agents",
     "nuid": "d6bdb1be-f6d3-4241-a1ca-5a0c032f57b6",
     "typedWidgetInfo": {
      "autoCreated": false,
      "defaultValue": "",
      "label": "schema",
      "name": "schema",
      "options": {
       "validationRegex": null,
       "widgetDisplayType": "Text"
      },
      "parameterDataType": "String"
     },
     "widgetInfo": {
      "defaultValue": "",
      "label": "schema",
      "name": "schema",
      "options": {
       "autoCreated": false,
       "validationRegex": null,
       "widgetType": "text"
      },
      "widgetType": "text"
     }
    },
    "user_full_path": {
     "currentValue": "/Volumes/bo_cheng_dnb_demos/agents/memory_agent_volume/user_info/",
     "nuid": "30441a11-250a-4247-9ed9-79de4e7471ad",
     "typedWidgetInfo": {
      "autoCreated": false,
      "defaultValue": "",
      "label": "user_full_path",
      "name": "user_full_path",
      "options": {
       "validationRegex": null,
       "widgetDisplayType": "Text"
      },
      "parameterDataType": "String"
     },
     "widgetInfo": {
      "defaultValue": "",
      "label": "user_full_path",
      "name": "user_full_path",
      "options": {
       "autoCreated": null,
       "validationRegex": null,
       "widgetType": "text"
      },
      "widgetType": "text"
     }
    }
   }
  },
  "language_info": {
   "name": "python"
  }
 },
 "nbformat": 4,
 "nbformat_minor": 0
}
