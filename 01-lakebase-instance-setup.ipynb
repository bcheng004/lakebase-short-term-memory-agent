{
 "cells": [
  {
   "cell_type": "code",
   "execution_count": 0,
   "metadata": {
    "application/vnd.databricks.v1+cell": {
     "cellMetadata": {
      "byteLimit": 2048000,
      "rowLimit": 10000
     },
     "inputWidgets": {},
     "nuid": "1247c05c-b447-4270-a9d2-d704eae0af9e",
     "showTitle": true,
     "tableResultSettingsMap": {},
     "title": "Install and Restart Databricks SDK Library"
    }
   },
   "outputs": [],
   "source": [
    "%pip install -U -qqqq databricks-sdk\n",
    "dbutils.library.restartPython()"
   ]
  },
  {
   "cell_type": "code",
   "execution_count": 0,
   "metadata": {
    "application/vnd.databricks.v1+cell": {
     "cellMetadata": {
      "byteLimit": 2048000,
      "rowLimit": 10000
     },
     "inputWidgets": {},
     "nuid": "80b655ec-94f8-4933-b8a9-507726f11fa9",
     "showTitle": true,
     "tableResultSettingsMap": {},
     "title": "Initialize WorkspaceClient in Databricks SDK"
    }
   },
   "outputs": [],
   "source": [
    "from databricks.sdk import WorkspaceClient\n",
    "\n",
    "w = WorkspaceClient()"
   ]
  },
  {
   "cell_type": "code",
   "execution_count": 0,
   "metadata": {
    "application/vnd.databricks.v1+cell": {
     "cellMetadata": {
      "byteLimit": 2048000,
      "rowLimit": 10000
     },
     "inputWidgets": {},
     "nuid": "2d404a67-9778-403f-a3e2-180a12080f49",
     "showTitle": true,
     "tableResultSettingsMap": {},
     "title": "Create and Wait for Database Instance in Databricks SDK"
    }
   },
   "outputs": [],
   "source": [
    "from databricks.sdk.service.database import DatabaseInstance\n",
    "from datetime import timedelta\n",
    "\n",
    "database_instance = DatabaseInstance(\n",
    "    name=\"bo-test-lakebase-3\",\n",
    "    capacity=\"CU_1\",\n",
    "    enable_pg_native_login=True,\n",
    ")\n",
    "w.database.create_database_instance_and_wait(\n",
    "    database_instance=database_instance, timeout=timedelta(minutes=20)\n",
    ")"
   ]
  },
  {
   "cell_type": "code",
   "execution_count": 0,
   "metadata": {
    "application/vnd.databricks.v1+cell": {
     "cellMetadata": {
      "byteLimit": 2048000,
      "rowLimit": 10000
     },
     "inputWidgets": {},
     "nuid": "5e800fad-2727-4bfb-835c-33f61e84a815",
     "showTitle": false,
     "tableResultSettingsMap": {},
     "title": ""
    }
   },
   "outputs": [],
   "source": [
    "from databricks.sdk.service.database import (\n",
    "    DatabaseInstanceRole,\n",
    "    DatabaseInstanceRoleAttributes,\n",
    "    DatabaseInstanceRoleIdentityType,\n",
    "    DatabaseInstanceRoleMembershipRole,\n",
    ")\n",
    "\n",
    "database_instance_role = DatabaseInstanceRole(\n",
    "    attributes=DatabaseInstanceRoleAttributes(\n",
    "        bypassrls=False,\n",
    "        createdb=False,\n",
    "        createrole=False,\n",
    "    ),\n",
    "    identity_type=DatabaseInstanceRoleIdentityType.SERVICE_PRINCIPAL,\n",
    "    membership_role=DatabaseInstanceRoleMembershipRole.DATABRICKS_SUPERUSER,\n",
    "    name=\"a797584d-d1b5-477b-bf00-947c57234d74\",\n",
    ")\n",
    "w.database.create_database_instance_role(\n",
    "    instance_name=\"bo-test-lakebase-3\", database_instance_role=database_instance_role\n",
    ")"
   ]
  },
  {
   "cell_type": "code",
   "execution_count": 0,
   "metadata": {
    "application/vnd.databricks.v1+cell": {
     "cellMetadata": {
      "byteLimit": 2048000,
      "rowLimit": 10000
     },
     "inputWidgets": {},
     "nuid": "491ba59f-142c-4067-8103-597660b0a681",
     "showTitle": false,
     "tableResultSettingsMap": {},
     "title": ""
    }
   },
   "outputs": [],
   "source": [
    "from databricks.sdk.service.database import DatabaseCatalog\n",
    "\n",
    "w.database.create_database_catalog(\n",
    "    catalog=DatabaseCatalog(\n",
    "        name=\"bo-test-lakebase-catalog\",\n",
    "        database_instance_name=\"bo-test-lakebase-3\",\n",
    "        database_name=\"databricks_postgres\",\n",
    "        create_database_if_not_exists=True,\n",
    "    )\n",
    ")"
   ]
  }
 ],
 "metadata": {
  "application/vnd.databricks.v1+notebook": {
   "computePreferences": {
    "hardware": {
     "accelerator": null,
     "gpuPoolId": null,
     "memory": null
    }
   },
   "dashboards": [],
   "environmentMetadata": {
    "base_environment": "",
    "environment_version": "3"
   },
   "inputWidgetPreferences": null,
   "language": "python",
   "notebookMetadata": {
    "pythonIndentUnit": 2
   },
   "notebookName": "01-lakebase-instance-setup",
   "widgets": {}
  },
  "language_info": {
   "name": "python"
  }
 },
 "nbformat": 4,
 "nbformat_minor": 0
}
