{
 "cells": [
  {
   "cell_type": "code",
   "execution_count": 0,
   "metadata": {
    "application/vnd.databricks.v1+cell": {
     "cellMetadata": {},
     "inputWidgets": {},
     "nuid": "e0badf2e-d84d-4c82-bd12-f8c7fd45b943",
     "showTitle": false,
     "tableResultSettingsMap": {},
     "title": ""
    }
   },
   "outputs": [],
   "source": [
    "SELECT\n",
    "  thread_id,\n",
    "  metadata,\n",
    "  checkpoint,\n",
    "  checkpoint_id parent_checkpoint_id,\n",
    "  checkpoint_ns,\n",
    "  type\n",
    "FROM\n",
    "  `lakebase-catalog-name`.public.checkpoints;"
   ]
  }
 ],
 "metadata": {
  "application/vnd.databricks.v1+notebook": {
   "computePreferences": null,
   "dashboards": [],
   "environmentMetadata": null,
   "inputWidgetPreferences": null,
   "language": "sql",
   "notebookMetadata": {
    "pythonIndentUnit": 2,
    "sqlQueryOptions": {
     "applyAutoLimit": true,
     "catalog": "bo-test-lakebase-catalog",
     "schema": "public"
    }
   },
   "notebookName": "checkpoints-example-query.dbquery.ipynb",
   "widgets": {}
  },
  "language_info": {
   "name": "sql"
  }
 },
 "nbformat": 4,
 "nbformat_minor": 0
}
