{
 "cells": [
  {
   "cell_type": "markdown",
   "metadata": {
    "application/vnd.databricks.v1+cell": {
     "cellMetadata": {},
     "inputWidgets": {},
     "nuid": "1b9bf681-07ad-4af3-b08d-7b01b573c613",
     "showTitle": false,
     "tableResultSettingsMap": {},
     "title": ""
    }
   },
   "source": [
    "## Databricks App Deployment - [Databricks SDK for Python](https://databricks-sdk-py.readthedocs.io/en/latest/workspace/apps/apps.html#w-apps-apps)\n",
    "- Please keep in mind you can also use [Databricks Asset Bundles](https://docs.databricks.com/aws/en/dev-tools/bundles/resources#app) to deploy an `app` as well"
   ]
  },
  {
   "cell_type": "code",
   "execution_count": 0,
   "metadata": {
    "application/vnd.databricks.v1+cell": {
     "cellMetadata": {
      "byteLimit": 2048000,
      "rowLimit": 10000
     },
     "inputWidgets": {},
     "nuid": "2b725b1c-19e1-427e-b617-844274856623",
     "showTitle": true,
     "tableResultSettingsMap": {},
     "title": "Install latest Databricks SDK version"
    }
   },
   "outputs": [],
   "source": [
    "%pip install -qqqq -U databricks-sdk"
   ]
  },
  {
   "cell_type": "code",
   "execution_count": 0,
   "metadata": {
    "application/vnd.databricks.v1+cell": {
     "cellMetadata": {
      "byteLimit": 2048000,
      "rowLimit": 10000
     },
     "inputWidgets": {},
     "nuid": "c1a3181c-b712-407b-90c0-3fa51e26a909",
     "showTitle": true,
     "tableResultSettingsMap": {},
     "title": "Set Default Widget Value for App Name"
    }
   },
   "outputs": [],
   "source": [
    "dbutils.widgets.text(\"app_name\", \"bo-lakebase-memory-app\", \"app_name\")\n",
    "dbutils.widgets.text(\n",
    "    \"source_code_path\",\n",
    "    \"/Workspace/Users/bo.cheng@databricks.com/bo-cheng-dnb-demos-personal/lakebase-memory-accelerator/databricks_apps/streamlit-chatbot-app\",\n",
    "    \"source_code_path\",\n",
    ")"
   ]
  },
  {
   "cell_type": "code",
   "execution_count": 0,
   "metadata": {
    "application/vnd.databricks.v1+cell": {
     "cellMetadata": {
      "byteLimit": 2048000,
      "rowLimit": 10000
     },
     "inputWidgets": {},
     "nuid": "428a0cda-44b1-4dfe-94fd-cfdd93252563",
     "showTitle": true,
     "tableResultSettingsMap": {},
     "title": "Initialize WorkspaceClient from Databricks SDK"
    }
   },
   "outputs": [],
   "source": [
    "from databricks.sdk import WorkspaceClient\n",
    "\n",
    "w = WorkspaceClient()"
   ]
  },
  {
   "cell_type": "code",
   "execution_count": 0,
   "metadata": {
    "application/vnd.databricks.v1+cell": {
     "cellMetadata": {
      "byteLimit": 2048000,
      "rowLimit": 10000
     },
     "inputWidgets": {},
     "nuid": "2d57c699-4afd-4dee-9b42-87b2ad086d0a",
     "showTitle": true,
     "tableResultSettingsMap": {},
     "title": "Create and Wait for Databricks App"
    }
   },
   "outputs": [],
   "source": [
    "from databricks.sdk.service.apps import App\n",
    "\n",
    "app = App(\n",
    "    name=dbutils.widgets.get(\"app_name\"),\n",
    "    description=\"example Databricks App to integrate with KA serving endpoint\",\n",
    "    user_api_scopes=[\"serving.serving-endpoints\"],\n",
    ")\n",
    "w.apps.create_and_wait(app=app)"
   ]
  },
  {
   "cell_type": "code",
   "execution_count": 0,
   "metadata": {
    "application/vnd.databricks.v1+cell": {
     "cellMetadata": {
      "byteLimit": 2048000,
      "rowLimit": 10000
     },
     "inputWidgets": {},
     "nuid": "7b15d88b-89cd-41b0-a6c0-2f3e6e2e4566",
     "showTitle": false,
     "tableResultSettingsMap": {},
     "title": ""
    }
   },
   "outputs": [],
   "source": [
    "from databricks.sdk.service.apps import AppDeployment\n",
    "\n",
    "# replace source_code_path with your own\n",
    "app_deployment = AppDeployment(\n",
    "    source_code_path=dbutils.widgets.get(\"source_code_path\")\n",
    ")\n",
    "w.apps.deploy_and_wait(\n",
    "    app_name=dbutils.widgets.get(\"app_name\"), app_deployment=app_deployment\n",
    ")"
   ]
  }
 ],
 "metadata": {
  "application/vnd.databricks.v1+notebook": {
   "computePreferences": {
    "hardware": {
     "accelerator": null,
     "gpuPoolId": null,
     "memory": null
    }
   },
   "dashboards": [],
   "environmentMetadata": {
    "base_environment": "",
    "environment_version": "3"
   },
   "inputWidgetPreferences": null,
   "language": "python",
   "notebookMetadata": {
    "pythonIndentUnit": 2
   },
   "notebookName": "03-deploy-run-databricks-app",
   "widgets": {
    "app_name": {
     "currentValue": "bo-lakebase-memory-app",
     "nuid": "4c404360-98df-45e2-a19b-ee5e3175080f",
     "typedWidgetInfo": {
      "autoCreated": false,
      "defaultValue": "bo-lakebase-memory-app",
      "label": "app_name",
      "name": "app_name",
      "options": {
       "widgetDisplayType": "Text",
       "validationRegex": null
      },
      "parameterDataType": "String"
     },
     "widgetInfo": {
      "widgetType": "text",
      "defaultValue": "bo-lakebase-memory-app",
      "label": "app_name",
      "name": "app_name",
      "options": {
       "widgetType": "text",
       "autoCreated": null,
       "validationRegex": null
      }
     }
    },
    "source_code_path": {
     "currentValue": "/Workspace/Users/bo.cheng@databricks.com/bo-cheng-dnb-demos-personal/lakebase-memory-accelerator/databricks_apps/streamlit-chatbot-app",
     "nuid": "f86777eb-5208-4f0d-8051-37efafd34cbb",
     "typedWidgetInfo": {
      "autoCreated": false,
      "defaultValue": "/Workspace/Users/bo.cheng@databricks.com/bo-cheng-dnb-demos-personal/lakebase-memory-accelerator/databricks_apps/streamlit-chatbot-app",
      "label": "source_code_path",
      "name": "source_code_path",
      "options": {
       "widgetDisplayType": "Text",
       "validationRegex": null
      },
      "parameterDataType": "String"
     },
     "widgetInfo": {
      "widgetType": "text",
      "defaultValue": "/Workspace/Users/bo.cheng@databricks.com/bo-cheng-dnb-demos-personal/lakebase-memory-accelerator/databricks_apps/streamlit-chatbot-app",
      "label": "source_code_path",
      "name": "source_code_path",
      "options": {
       "widgetType": "text",
       "autoCreated": null,
       "validationRegex": null
      }
     }
    }
   }
  },
  "language_info": {
   "name": "python"
  }
 },
 "nbformat": 4,
 "nbformat_minor": 0
}
